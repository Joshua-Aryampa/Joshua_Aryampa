{
 "cells": [
  {
   "cell_type": "code",
   "execution_count": 1,
   "metadata": {},
   "outputs": [],
   "source": [
    "class ShoppingCart:\n",
    "    def add_item(self, name, price, quantity=1):  # Default quantity = 1\n",
    "        \"\"\"Handles both:\n",
    "        - cart.add_item(\"Apple\", 0.99)  (quantity defaults to 1)\n",
    "        - cart.add_item(\"Banana\", 1.25, 5)  (explicit quantity)\"\"\"\n",
    "        total = price * quantity\n",
    "        print(f\"Added {quantity} {name}(s) for ${total:.2f}\")"
   ]
  },
  {
   "cell_type": "code",
   "execution_count": 2,
   "metadata": {},
   "outputs": [
    {
     "name": "stdout",
     "output_type": "stream",
     "text": [
      "Added 1 Apple(s) for $0.99\n",
      "Added 5 Banana(s) for $6.25\n"
     ]
    }
   ],
   "source": [
    "# Usage\n",
    "cart = ShoppingCart()\n",
    "cart.add_item(\"Apple\", 0.99)       # Adds 1 apple\n",
    "cart.add_item(\"Banana\", 1.25, 5)   # Adds 5 bananas"
   ]
  }
 ],
 "metadata": {
  "kernelspec": {
   "display_name": "base",
   "language": "python",
   "name": "python3"
  },
  "language_info": {
   "codemirror_mode": {
    "name": "ipython",
    "version": 3
   },
   "file_extension": ".py",
   "mimetype": "text/x-python",
   "name": "python",
   "nbconvert_exporter": "python",
   "pygments_lexer": "ipython3",
   "version": "3.12.7"
  }
 },
 "nbformat": 4,
 "nbformat_minor": 2
}
