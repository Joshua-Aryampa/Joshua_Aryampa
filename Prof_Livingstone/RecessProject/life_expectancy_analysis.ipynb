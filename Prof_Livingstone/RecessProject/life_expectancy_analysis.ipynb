{
 "cells": [
  {
   "cell_type": "code",
   "execution_count": 5,
   "id": "da85cf19",
   "metadata": {},
   "outputs": [],
   "source": [
    "##Key tasks for the project:\n",
    "# Task 0: Import necessary libraries and load the dataset.\n",
    "# Task 1:  Explore the dataset, identify missing values, and determine the percentage of  missing data for each feature.\n",
    "# Task 2: Decide on the appropriate method for handling missing data (imputation, removal,or using algorithms that handle missing values natively) and justify your choice.\n",
    "# Task 3: Implement the chosen method and evaluate its impact on the dataset\n",
    "# Task 4: Explore the dataset and identify potential features.\n",
    "# Task 5: Implement feature engineering techniques to create new features.\n",
    "# Task 6: Evaluate the impact of the new features on model performance.\n",
    "# Task 7: Explore the dataset and identify key variables for visualization.\n",
    "# Task 8: Use libraries like Matplotlib, Seaborn, and Plotly to create various types of visualizations (e.g., scatter plots, heatmaps, 3D plots).\n",
    "# Task 9: Interpret the visualizations to uncover patterns and insights in the data.\n",
    "# Task 10: Data Splitting, Training of modules\n",
    "# Task 11: Cross Validation and Evaluation of the model\n",
    "# Task 12: Conclusions, Actionable insights, Recommendation and summary"
   ]
  },
  {
   "cell_type": "code",
   "execution_count": 6,
   "id": "7c35f3a8",
   "metadata": {},
   "outputs": [
    {
     "ename": "ModuleNotFoundError",
     "evalue": "No module named 'xgboost'",
     "output_type": "error",
     "traceback": [
      "\u001b[1;31m---------------------------------------------------------------------------\u001b[0m",
      "\u001b[1;31mModuleNotFoundError\u001b[0m                       Traceback (most recent call last)",
      "Cell \u001b[1;32mIn[6], line 10\u001b[0m\n\u001b[0;32m      8\u001b[0m \u001b[38;5;28;01mfrom\u001b[39;00m \u001b[38;5;21;01msklearn\u001b[39;00m\u001b[38;5;21;01m.\u001b[39;00m\u001b[38;5;21;01mmetrics\u001b[39;00m \u001b[38;5;28;01mimport\u001b[39;00m r2_score, mean_absolute_error \n\u001b[0;32m      9\u001b[0m \u001b[38;5;28;01mfrom\u001b[39;00m \u001b[38;5;21;01msklearn\u001b[39;00m\u001b[38;5;21;01m.\u001b[39;00m\u001b[38;5;21;01mensemble\u001b[39;00m \u001b[38;5;28;01mimport\u001b[39;00m RandomForestRegressor\n\u001b[1;32m---> 10\u001b[0m \u001b[38;5;28;01mfrom\u001b[39;00m \u001b[38;5;21;01mxgboost\u001b[39;00m \u001b[38;5;28;01mimport\u001b[39;00m XGBRegressor\n\u001b[0;32m     11\u001b[0m \u001b[38;5;28;01mfrom\u001b[39;00m \u001b[38;5;21;01msklearn\u001b[39;00m\u001b[38;5;21;01m.\u001b[39;00m\u001b[38;5;21;01mmodel_selection\u001b[39;00m \u001b[38;5;28;01mimport\u001b[39;00m cross_val_score, KFold\n\u001b[0;32m     12\u001b[0m \u001b[38;5;28;01mfrom\u001b[39;00m \u001b[38;5;21;01msklearn\u001b[39;00m\u001b[38;5;21;01m.\u001b[39;00m\u001b[38;5;21;01mmetrics\u001b[39;00m \u001b[38;5;28;01mimport\u001b[39;00m make_scorer \n",
      "\u001b[1;31mModuleNotFoundError\u001b[0m: No module named 'xgboost'"
     ]
    }
   ],
   "source": [
    "#Import Necessary Libraries\n",
    "import pandas as pd      \n",
    "import numpy as np      \n",
    "import matplotlib.pyplot as plt \n",
    "import seaborn as sb    \n",
    "from sklearn.model_selection import train_test_split  \n",
    "from sklearn.linear_model import LinearRegression     \n",
    "from sklearn.metrics import r2_score, mean_absolute_error \n",
    "from sklearn.ensemble import RandomForestRegressor\n",
    "from xgboost import XGBRegressor\n",
    "from sklearn.model_selection import cross_val_score, KFold\n",
    "from sklearn.metrics import make_scorer \n",
    "import plotly.express as px  \n",
    "from mpl_toolkits.mplot3d import Axes3D\n",
    "  \n"
   ]
  },
  {
   "cell_type": "markdown",
   "id": "b3f341bf",
   "metadata": {},
   "source": [
    "Task 1:  Explore the dataset, identify missing values, and determine the percentage of  missing data for each feature."
   ]
  },
  {
   "cell_type": "code",
   "execution_count": null,
   "id": "4973a021",
   "metadata": {},
   "outputs": [],
   "source": [
    "# Load the dataset\n",
    "df = pd.read_csv('Life_Expectancy_Data.csv')  \n",
    "\n",
    "df.head()"
   ]
  },
  {
   "cell_type": "code",
   "execution_count": null,
   "id": "6edf881a",
   "metadata": {},
   "outputs": [],
   "source": [
    "df.shape "
   ]
  },
  {
   "cell_type": "code",
   "execution_count": null,
   "id": "82959b73",
   "metadata": {},
   "outputs": [],
   "source": [
    "df.info()"
   ]
  },
  {
   "cell_type": "code",
   "execution_count": null,
   "id": "42479bb0",
   "metadata": {},
   "outputs": [],
   "source": [
    "df['Country'] = df['Country'].astype('category')\n",
    "df['Status'] = df['Status'].astype('category')\n",
    "\n",
    "print(\"Updated Data Types:\")\n",
    "print(df.dtypes[['Country', 'Status']])\n",
    "\n",
    "\n"
   ]
  },
  {
   "cell_type": "code",
   "execution_count": null,
   "id": "a704594d",
   "metadata": {},
   "outputs": [],
   "source": [
    "df.head()"
   ]
  },
  {
   "cell_type": "code",
   "execution_count": null,
   "id": "8e01c9b3",
   "metadata": {},
   "outputs": [],
   "source": [
    "# Remove leading/trailing spaces from column names\n",
    "df.columns = df.columns.str.strip()"
   ]
  },
  {
   "cell_type": "code",
   "execution_count": null,
   "id": "d50f3498",
   "metadata": {},
   "outputs": [],
   "source": [
    "df.describe().T"
   ]
  },
  {
   "cell_type": "code",
   "execution_count": null,
   "id": "4ac36756",
   "metadata": {},
   "outputs": [],
   "source": [
    "#Checking if there are any duplicate rows\n",
    "duplicates = df.duplicated().sum()\n",
    "print(f\"\\nNumber of duplicate rows: {duplicates}\")"
   ]
  },
  {
   "cell_type": "code",
   "execution_count": null,
   "id": "ea61b676",
   "metadata": {},
   "outputs": [],
   "source": [
    "missing_values = df.isnull().sum()\n",
    "missing_percent = (missing_values / len(df)) * 100\n",
    "\n",
    "missing_table = pd.DataFrame({\n",
    "    'Missing Values': missing_values,\n",
    "    '% Missing': missing_percent.round(2)\n",
    "}).sort_values(by='Missing Values', ascending=False)\n",
    "\n",
    "print(\" Missing Values Summary:\")\n",
    "display(missing_table)"
   ]
  },
  {
   "cell_type": "markdown",
   "id": "f06e7ce5",
   "metadata": {},
   "source": [
    "Task 2: Decide on the appropriate method for handling missing data \n",
    " \n"
   ]
  },
  {
   "cell_type": "code",
   "execution_count": null,
   "id": "56fd3b17",
   "metadata": {},
   "outputs": [],
   "source": [
    "# After examining the dataset, there are no missing values in any of the features.\n",
    "# Therefore, no imputation, removal, or special handling is required."
   ]
  },
  {
   "cell_type": "markdown",
   "id": "35e4e919",
   "metadata": {},
   "source": [
    "Task 3: Implement the chosen method and evaluate its impact on the dataset"
   ]
  },
  {
   "cell_type": "code",
   "execution_count": null,
   "id": "f736573d",
   "metadata": {},
   "outputs": [],
   "source": [
    "# Since no missing data was found, no changes were made to the dataset.\n",
    "# The structure and distribution of the data remain unchanged"
   ]
  },
  {
   "cell_type": "markdown",
   "id": "7db32c8f",
   "metadata": {},
   "source": [
    "Task 4: Explore the dataset and identify potential features."
   ]
  },
  {
   "cell_type": "code",
   "execution_count": null,
   "id": "a758e153",
   "metadata": {},
   "outputs": [],
   "source": [
    "# Replace 'Status' with numeric codes\n",
    "df['Status_Code'] = df['Status'].map({'Developing': 0, 'Developed': 1})\n"
   ]
  },
  {
   "cell_type": "code",
   "execution_count": null,
   "id": "6e3faa9e",
   "metadata": {},
   "outputs": [],
   "source": [
    "# Correlation matrix with target variable\n",
    "correlation = df.corr(numeric_only=True)['Life expectancy'].sort_values(ascending=False)\n",
    "print(\"Correlation with Life Expectancy:\\n\")\n",
    "print(correlation)\n",
    "\n"
   ]
  },
  {
   "cell_type": "code",
   "execution_count": null,
   "id": "a0901cc8",
   "metadata": {},
   "outputs": [],
   "source": [
    "plt.figure(figsize=(16, 12))\n",
    "sb.heatmap(df.select_dtypes(include=[np.number]).corr(), annot=True, cmap='coolwarm', center=0)\n",
    "plt.title(\"Feature Correlation Heatmap\")\n",
    "plt.show()"
   ]
  },
  {
   "cell_type": "code",
   "execution_count": null,
   "id": "3bcfd55f",
   "metadata": {},
   "outputs": [],
   "source": [
    "# Remove Highly Correlated Features to avoid redundancy (|correlation|>0.8)\n",
    "# Getting rid of under-five deaths column since it is perfectly positively correlated with infant deaths hence a redundant feature\n",
    "df.drop(columns=['under-five deaths'], inplace=True)\n",
    "df.shape\n",
    "\n",
    "# Getting rid of thinness 5-9 since it is very highly positively correlated with thinness 1-19 years hence a redundant feature\n",
    "df.drop(columns=['thinness 5-9 years'], inplace=True)\n",
    "\n",
    "# Gettting rid of percent expenditure since it is highly negatively correlated with GDP\n",
    "df.drop(columns=['percentage expenditure'], inplace=True)"
   ]
  },
  {
   "cell_type": "code",
   "execution_count": null,
   "id": "0858c91d",
   "metadata": {},
   "outputs": [],
   "source": [
    "# Checking for skewness in numerical columns\n",
    "numerical_cols = df.select_dtypes(include=['int64', 'float64']).columns\n",
    "skewness = df[numerical_cols].skew()\n",
    "print(\"\\nSkewness of numerical columns:\")\n",
    "print(skewness)"
   ]
  },
  {
   "cell_type": "code",
   "execution_count": null,
   "id": "5812f0ac",
   "metadata": {},
   "outputs": [],
   "source": [
    "high_skew = skewness[abs(skewness) >= 5].index\n",
    "for col in high_skew:\n",
    "    df[col] = np.log1p(df[col])\n",
    "    print(f\"Applied log transformation to {col}\")   \n",
    "    \n",
    "skewness = df[numerical_cols].skew()\n",
    "print(\"\\nSkewness after transformation:\")\n",
    "print(skewness)"
   ]
  },
  {
   "cell_type": "markdown",
   "id": "d60fea2a",
   "metadata": {},
   "source": [
    "Task 5: Implement feature engineering techniques to create new features."
   ]
  },
  {
   "cell_type": "code",
   "execution_count": null,
   "id": "4931db23",
   "metadata": {},
   "outputs": [],
   "source": [
    "#GDP per Capita\n",
    "df['GDP_per_capita'] = df['GDP'] / df['Population']\n",
    "df['GDP_per_capita'] = df['GDP_per_capita'].fillna(df['GDP_per_capita'].mean())\n",
    "\n",
    "#Vaccination Composite Feature\n",
    "df['Vaccination'] = df[['Hepatitis B', 'Measles', 'Polio', 'Diphtheria']].mean(axis=1)\n",
    "\n",
    "#BMI Categories\n",
    "bins = [0, 18.5, 25, 30, np.inf]\n",
    "labels = ['Underweight', 'Normal', 'Overweight', 'Obese']\n",
    "df['BMI Category'] = pd.cut(df['BMI'], bins=bins, labels=labels)\n",
    "\n",
    "#Total Expenditure per Capita\n",
    "df['Total_expenditure_per_capita'] = df['Total expenditure'] / df['Population']\n",
    "\n",
    "# # Is_Developed Feature\n",
    "\n",
    "df['Is_Developed'] = df['Status'].apply(lambda x: 1 if x == 'Developed' else 0)\n",
    "\n",
    "df[['GDP_per_capita','Vaccination','BMI Category','Total_expenditure_per_capita','Is_Developed']].head()\n",
    "\n"
   ]
  },
  {
   "cell_type": "code",
   "execution_count": null,
   "id": "eae1a1b0",
   "metadata": {},
   "outputs": [],
   "source": [
    "plt.figure(figsize=(16, 12))\n",
    "sb.heatmap(df.select_dtypes(include=[np.number]).corr(), annot=True, cmap='coolwarm', center=0)\n",
    "plt.title(\"Feature Correlation Heatmap\")\n",
    "plt.show()"
   ]
  },
  {
   "cell_type": "markdown",
   "id": "a761f4ce",
   "metadata": {},
   "source": [
    " Task 6: Evaluate the impact of the new features on model performance."
   ]
  },
  {
   "cell_type": "code",
   "execution_count": null,
   "id": "d9fb4ccd",
   "metadata": {},
   "outputs": [],
   "source": [
    "\n",
    "y = df['Life expectancy']\n",
    "\n",
    "X_base = df[['Is_Developed', 'Adult Mortality', 'infant deaths', \n",
    "             'Alcohol', 'Hepatitis B', 'Measles', 'BMI',\n",
    "             'Polio', 'Total expenditure', 'Diphtheria', \n",
    "             'HIV/AIDS', 'GDP', 'Population', 'thinness  1-19 years', \n",
    "             'Income composition of resources', 'Schooling']]\n",
    "\n",
    "X_new = df[['Adult Mortality', 'infant deaths', 'Alcohol',\n",
    "            'HIV/AIDS', 'thinness  1-19 years', 'Income composition of resources', 'Schooling',\n",
    "            'GDP_per_capita', 'Vaccination', 'BMI Category', \n",
    "            'Total_expenditure_per_capita', 'Is_Developed']]\n",
    "\n",
    "# Encode categorical \n",
    "X_new = pd.get_dummies(X_new, drop_first=True)\n",
    "\n",
    "\n",
    "train_idx, test_idx = train_test_split(df.index, test_size=0.2, random_state=42)\n",
    "\n",
    "Xb_train, Xb_test = X_base.loc[train_idx], X_base.loc[test_idx]\n",
    "Xn_train, Xn_test = X_new.loc[train_idx], X_new.loc[test_idx]\n",
    "yb_train, yb_test = y.loc[train_idx], y.loc[test_idx]\n",
    "\n",
    "model = LinearRegression()\n",
    "\n",
    "model.fit(Xb_train, yb_train)\n",
    "y_pred_base = model.predict(Xb_test)\n",
    "\n",
    "r2_base = r2_score(yb_test, y_pred_base)\n",
    "mae_base = mean_absolute_error(yb_test, y_pred_base)\n",
    "\n",
    "\n",
    "model.fit(Xn_train, yb_train)\n",
    "y_pred_new = model.predict(Xn_test)\n",
    "\n",
    "r2_new = r2_score(yb_test, y_pred_new)\n",
    "mae_new = mean_absolute_error(yb_test, y_pred_new)\n",
    "\n",
    "# Compare results\n",
    "print(\"Model Performance Comparison:\")\n",
    "print(f\"R² (Base Model): {r2_base:.3f}\")\n",
    "print(f\"MAE (Base Model): {mae_base:.3f}\")\n",
    "print()\n",
    "print(f\"R² (With Engineered Features): {r2_new:.3f}\")\n",
    "print(f\"MAE (With Engineered Features): {mae_new:.3f}\")\n"
   ]
  },
  {
   "cell_type": "markdown",
   "id": "2f8f4f9a",
   "metadata": {},
   "source": [
    "Task 7 & 8: Identification and Visualization of Key Variables Using Matplotlib, Seaborn, and Plotly"
   ]
  },
  {
   "cell_type": "code",
   "execution_count": null,
   "id": "c5abe594",
   "metadata": {},
   "outputs": [],
   "source": [
    "numeric_df = df.select_dtypes(include=['float64', 'int64'])\n",
    "\n",
    "# top 12 most correlated features with Life Expectancy\n",
    "corr_features = numeric_df.corr()['Life expectancy'].abs().sort_values(ascending=False).head(13).index\n",
    "plt.figure(figsize=(12, 8))\n",
    "sb.heatmap(numeric_df[corr_features].corr(), annot=True, cmap=\"coolwarm\", fmt=\".2f\")\n",
    "plt.title(\"Correlation Heatmap (Top Features Related to Life Expectancy)\", fontsize=14)\n",
    "plt.show()\n"
   ]
  },
  {
   "cell_type": "code",
   "execution_count": null,
   "id": "6f8e352b",
   "metadata": {},
   "outputs": [],
   "source": [
    "#scatter plots for top features\n",
    "\n",
    "top_features = ['Schooling', 'Income composition of resources', 'Adult Mortality']\n",
    "\n",
    "\n",
    "\n",
    "plt.figure(figsize=(18, 5))\n",
    "\n",
    "for i, feature in enumerate(top_features, 1):\n",
    "    plt.subplot(1, 3, i)\n",
    "    sb.scatterplot(data=df, x=feature, y='Life expectancy', hue='Status', alpha=0.7)\n",
    "    sb.regplot(x=df[feature], y=df['Life expectancy'], scatter=False, color='red')\n",
    "    plt.title(f'Life Expectancy vs {feature}')\n",
    "    plt.xlabel(feature)\n",
    "    plt.ylabel('Life Expectancy')\n",
    "\n",
    "plt.tight_layout()\n",
    "plt.show()\n",
    "\n"
   ]
  },
  {
   "cell_type": "code",
   "execution_count": null,
   "id": "510dfc61",
   "metadata": {},
   "outputs": [],
   "source": [
    "# Box Plot – Life Expectancy by Status\n",
    "plt.figure(figsize=(10, 6))\n",
    "sb.boxplot(data=df, x='Status', y='Life expectancy')\n",
    "plt.title(\"Life Expectancy by Development Status\", fontsize=14)\n",
    "plt.show()\n"
   ]
  },
  {
   "cell_type": "code",
   "execution_count": null,
   "id": "0fe784df",
   "metadata": {},
   "outputs": [],
   "source": [
    "# 📊 Bar Plot: Average Life Expectancy by Development Status (Using 'Status')\n",
    "plt.figure(figsize=(6, 5))\n",
    "sb.barplot(data=df, x='Status', y='Life expectancy')\n",
    "plt.title('Average Life Expectancy by Development Status')\n",
    "plt.xlabel('Development Status')\n",
    "plt.ylabel('Life Expectancy')\n",
    "plt.tight_layout()\n",
    "plt.show()\n",
    "\n",
    "\n",
    "\n"
   ]
  },
  {
   "cell_type": "code",
   "execution_count": null,
   "id": "cb7942bb",
   "metadata": {},
   "outputs": [],
   "source": [
    "plt.figure(figsize=(10, 6))\n",
    "sb.lineplot(x='Year', y='Life expectancy', data=df, hue='Status', ci=None)\n",
    "plt.title(\"Life Expectancy Trend Over Years\")\n",
    "plt.show()"
   ]
  },
  {
   "cell_type": "code",
   "execution_count": null,
   "id": "da1c2c55",
   "metadata": {},
   "outputs": [],
   "source": [
    "# 3D Plot – GDP vs Schooling vs Life Expectancy (Using Plotly)\n",
    "\n",
    "fig = px.scatter_3d(df, x='Schooling', y='Income composition of resources', z='Adult Mortality',\n",
    "                    color='Status', size='Vaccination', opacity=0.7,\n",
    "                    title=\"3D Scatter: GDP vs Schooling vs Life Expectancy\")\n",
    "fig.show()\n",
    "\n",
    "\n",
    "\n"
   ]
  },
  {
   "cell_type": "code",
   "execution_count": null,
   "id": "d9eb3c3c",
   "metadata": {},
   "outputs": [],
   "source": [
    "sb.histplot(df['Life expectancy'], kde=True, bins=30)\n",
    "plt.title(\"Distribution of Life Expectancy\")\n",
    "plt.show()\n"
   ]
  },
  {
   "cell_type": "code",
   "execution_count": null,
   "id": "4743f585",
   "metadata": {},
   "outputs": [],
   "source": [
    "plt.figure(figsize=(10, 6))\n",
    "sb.violinplot(x='BMI Category', y='Life expectancy', data=df, hue='Status', split=True)\n",
    "plt.title(\"Life Expectancy Distribution by BMI Category\")\n",
    "plt.show()"
   ]
  },
  {
   "cell_type": "markdown",
   "id": "c9ef9cb9",
   "metadata": {},
   "source": [
    "Task 10: Data Splitting, Training of modules"
   ]
  },
  {
   "cell_type": "code",
   "execution_count": null,
   "id": "29bb18e8",
   "metadata": {},
   "outputs": [],
   "source": [
    "\n",
    "y = df['Life expectancy']\n",
    "\n",
    "X = df[['Adult Mortality', 'infant deaths', 'Alcohol',\n",
    "            'HIV/AIDS', 'thinness  1-19 years', 'Income composition of resources', 'Schooling',\n",
    "            'GDP_per_capita', 'Vaccination', 'BMI Category', \n",
    "            'Total_expenditure_per_capita', 'Is_Developed']]\n",
    "X = pd.get_dummies(X, drop_first=True)\n",
    "\n",
    "\n",
    "X_train, X_test, y_train, y_test = train_test_split(X, y, test_size=0.2, random_state=42)\n",
    "\n",
    "# Random Forest\n",
    "rf_model = RandomForestRegressor(n_estimators=100, random_state=42)\n",
    "rf_model.fit(X_train, y_train)\n",
    "rf_preds = rf_model.predict(X_test)\n",
    "\n",
    "r2_rf = r2_score(y_test, rf_preds)\n",
    "mae_rf = mean_absolute_error(y_test, rf_preds)\n",
    "\n",
    "# XGBoost\n",
    "xgb_model = XGBRegressor(n_estimators=100, random_state=42)\n",
    "xgb_model.fit(X_train, y_train)\n",
    "xgb_preds = xgb_model.predict(X_test)\n",
    "\n",
    "r2_xgb = r2_score(y_test, xgb_preds)\n",
    "mae_xgb = mean_absolute_error(y_test, xgb_preds)\n",
    "\n",
    "#  Compare Results\n",
    "print(\"Model Performance Comparison :\")\n",
    "print(f\"Random Forest R²: {r2_rf:.3f} | MAE: {mae_rf:.2f}\")\n",
    "print(f\"XGBoost       R²: {r2_xgb:.3f} | MAE: {mae_xgb:.2f}\")\n"
   ]
  },
  {
   "cell_type": "markdown",
   "id": "ac49161b",
   "metadata": {},
   "source": [
    "Cross Validation and Evaluation of the model"
   ]
  },
  {
   "cell_type": "code",
   "execution_count": null,
   "id": "455fc4d4",
   "metadata": {},
   "outputs": [],
   "source": [
    "\n",
    "y = df['Life expectancy']\n",
    "\n",
    "X = df[['Adult Mortality', 'infant deaths', 'Alcohol',\n",
    "            'HIV/AIDS', 'thinness  1-19 years', 'Income composition of resources', 'Schooling',\n",
    "            'GDP_per_capita', 'Vaccination', 'BMI Category', \n",
    "            'Total_expenditure_per_capita', 'Is_Developed']]\n",
    "X = pd.get_dummies(X, drop_first=True)\n",
    "\n",
    "#  Define the model\n",
    "model = RandomForestRegressor(n_estimators=100, random_state=42)\n",
    "\n",
    "# Set up K-Fold Cross-Validation (5 folds)\n",
    "kf = KFold(n_splits=5, shuffle=True, random_state=42)\n",
    "\n",
    "# Define scoring metrics\n",
    "r2_scores = cross_val_score(model, X, y, cv=kf, scoring='r2')\n",
    "mae_scores = cross_val_score(model, X, y, cv=kf, scoring=make_scorer(mean_absolute_error))\n",
    "\n",
    "# Print cross-validation results\n",
    "print(\"Cross-Validation Performance:\")\n",
    "print(f\"R² Scores: {r2_scores}\")\n",
    "print(f\"MAE Scores: {mae_scores}\")\n",
    "print(\"\\nAverage Performance:\")\n",
    "print(f\" Mean R² Score: {np.mean(r2_scores):.3f}\")\n",
    "print(f\" Mean MAE: {np.mean(mae_scores):.2f}\")\n"
   ]
  }
 ],
 "metadata": {
  "kernelspec": {
   "display_name": "Python 3",
   "language": "python",
   "name": "python3"
  },
  "language_info": {
   "codemirror_mode": {
    "name": "ipython",
    "version": 3
   },
   "file_extension": ".py",
   "mimetype": "text/x-python",
   "name": "python",
   "nbconvert_exporter": "python",
   "pygments_lexer": "ipython3",
   "version": "3.12.4"
  }
 },
 "nbformat": 4,
 "nbformat_minor": 5
}
